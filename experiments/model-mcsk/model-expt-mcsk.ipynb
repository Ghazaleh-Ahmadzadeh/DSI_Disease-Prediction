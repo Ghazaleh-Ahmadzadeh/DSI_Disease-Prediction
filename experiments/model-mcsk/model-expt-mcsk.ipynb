{
 "cells": [
  {
   "cell_type": "code",
   "execution_count": 1,
   "metadata": {},
   "outputs": [],
   "source": [
    "import os\n",
    "import numpy as np\n",
    "import pandas as pd\n",
    "import random"
   ]
  },
  {
   "cell_type": "markdown",
   "metadata": {},
   "source": [
    "### Data Loading and Formatting"
   ]
  },
  {
   "cell_type": "code",
   "execution_count": 2,
   "metadata": {},
   "outputs": [],
   "source": [
    "# Load training scaled datasets\n",
    "data_path = \"../data/preprocessed/preprocessed_data_20250720_131842\"\n",
    "\n",
    "X_train = pd.read_csv(os.path.join(data_path, 'X_train_scaled.csv'))\n",
    "y_train = pd.read_csv(os.path.join(data_path, 'y_train_scaled.csv'))\n",
    "\n",
    "# Load test datasets\n",
    "X_test = pd.read_csv(os.path.join(data_path, 'X_test_scaled.csv'))\n",
    "y_test = pd.read_csv(os.path.join(data_path, 'y_test_scaled.csv'))"
   ]
  },
  {
   "cell_type": "code",
   "execution_count": 3,
   "metadata": {},
   "outputs": [
    {
     "data": {
      "text/html": [
       "<div>\n",
       "<style scoped>\n",
       "    .dataframe tbody tr th:only-of-type {\n",
       "        vertical-align: middle;\n",
       "    }\n",
       "\n",
       "    .dataframe tbody tr th {\n",
       "        vertical-align: top;\n",
       "    }\n",
       "\n",
       "    .dataframe thead th {\n",
       "        text-align: right;\n",
       "    }\n",
       "</style>\n",
       "<table border=\"1\" class=\"dataframe\">\n",
       "  <thead>\n",
       "    <tr style=\"text-align: right;\">\n",
       "      <th></th>\n",
       "      <th>Height</th>\n",
       "      <th>Weight</th>\n",
       "      <th>family_history_with_overweight</th>\n",
       "      <th>FAVC</th>\n",
       "      <th>FCVC</th>\n",
       "      <th>NCP</th>\n",
       "      <th>CAEC</th>\n",
       "      <th>SMOKE</th>\n",
       "      <th>CH2O</th>\n",
       "      <th>SCC</th>\n",
       "      <th>...</th>\n",
       "      <th>TUE</th>\n",
       "      <th>CALC</th>\n",
       "      <th>Gender_Male</th>\n",
       "      <th>MTRANS_Bike</th>\n",
       "      <th>MTRANS_Motorbike</th>\n",
       "      <th>MTRANS_Public_Transportation</th>\n",
       "      <th>MTRANS_Walking</th>\n",
       "      <th>Age_Category_Young Adult</th>\n",
       "      <th>Age_Category_Adult</th>\n",
       "      <th>Age_Category_Senior</th>\n",
       "    </tr>\n",
       "  </thead>\n",
       "  <tbody>\n",
       "    <tr>\n",
       "      <th>0</th>\n",
       "      <td>3.319501</td>\n",
       "      <td>2.315363</td>\n",
       "      <td>1</td>\n",
       "      <td>1</td>\n",
       "      <td>3.000000</td>\n",
       "      <td>3.666667</td>\n",
       "      <td>3.666667</td>\n",
       "      <td>0</td>\n",
       "      <td>5.000000</td>\n",
       "      <td>0</td>\n",
       "      <td>...</td>\n",
       "      <td>5.000000</td>\n",
       "      <td>3.666667</td>\n",
       "      <td>True</td>\n",
       "      <td>False</td>\n",
       "      <td>False</td>\n",
       "      <td>True</td>\n",
       "      <td>False</td>\n",
       "      <td>True</td>\n",
       "      <td>False</td>\n",
       "      <td>False</td>\n",
       "    </tr>\n",
       "    <tr>\n",
       "      <th>1</th>\n",
       "      <td>3.243115</td>\n",
       "      <td>2.019406</td>\n",
       "      <td>0</td>\n",
       "      <td>0</td>\n",
       "      <td>3.000000</td>\n",
       "      <td>3.666667</td>\n",
       "      <td>2.333333</td>\n",
       "      <td>0</td>\n",
       "      <td>5.000000</td>\n",
       "      <td>0</td>\n",
       "      <td>...</td>\n",
       "      <td>3.000000</td>\n",
       "      <td>1.000000</td>\n",
       "      <td>True</td>\n",
       "      <td>False</td>\n",
       "      <td>False</td>\n",
       "      <td>True</td>\n",
       "      <td>False</td>\n",
       "      <td>True</td>\n",
       "      <td>False</td>\n",
       "      <td>False</td>\n",
       "    </tr>\n",
       "    <tr>\n",
       "      <th>2</th>\n",
       "      <td>2.861183</td>\n",
       "      <td>1.536011</td>\n",
       "      <td>1</td>\n",
       "      <td>1</td>\n",
       "      <td>5.000000</td>\n",
       "      <td>3.666667</td>\n",
       "      <td>2.333333</td>\n",
       "      <td>0</td>\n",
       "      <td>3.000000</td>\n",
       "      <td>0</td>\n",
       "      <td>...</td>\n",
       "      <td>1.000000</td>\n",
       "      <td>2.333333</td>\n",
       "      <td>True</td>\n",
       "      <td>False</td>\n",
       "      <td>False</td>\n",
       "      <td>True</td>\n",
       "      <td>False</td>\n",
       "      <td>True</td>\n",
       "      <td>False</td>\n",
       "      <td>False</td>\n",
       "    </tr>\n",
       "    <tr>\n",
       "      <th>3</th>\n",
       "      <td>3.811803</td>\n",
       "      <td>2.600009</td>\n",
       "      <td>1</td>\n",
       "      <td>1</td>\n",
       "      <td>4.587122</td>\n",
       "      <td>4.718136</td>\n",
       "      <td>2.333333</td>\n",
       "      <td>0</td>\n",
       "      <td>3.858118</td>\n",
       "      <td>0</td>\n",
       "      <td>...</td>\n",
       "      <td>1.786716</td>\n",
       "      <td>2.333333</td>\n",
       "      <td>True</td>\n",
       "      <td>False</td>\n",
       "      <td>False</td>\n",
       "      <td>True</td>\n",
       "      <td>False</td>\n",
       "      <td>True</td>\n",
       "      <td>False</td>\n",
       "      <td>False</td>\n",
       "    </tr>\n",
       "    <tr>\n",
       "      <th>4</th>\n",
       "      <td>1.605530</td>\n",
       "      <td>1.600435</td>\n",
       "      <td>0</td>\n",
       "      <td>1</td>\n",
       "      <td>2.945090</td>\n",
       "      <td>2.786152</td>\n",
       "      <td>2.333333</td>\n",
       "      <td>0</td>\n",
       "      <td>2.422148</td>\n",
       "      <td>1</td>\n",
       "      <td>...</td>\n",
       "      <td>3.382106</td>\n",
       "      <td>2.333333</td>\n",
       "      <td>False</td>\n",
       "      <td>False</td>\n",
       "      <td>False</td>\n",
       "      <td>True</td>\n",
       "      <td>False</td>\n",
       "      <td>False</td>\n",
       "      <td>False</td>\n",
       "      <td>False</td>\n",
       "    </tr>\n",
       "  </tbody>\n",
       "</table>\n",
       "<p>5 rows × 21 columns</p>\n",
       "</div>"
      ],
      "text/plain": [
       "     Height    Weight  family_history_with_overweight  FAVC      FCVC  \\\n",
       "0  3.319501  2.315363                               1     1  3.000000   \n",
       "1  3.243115  2.019406                               0     0  3.000000   \n",
       "2  2.861183  1.536011                               1     1  5.000000   \n",
       "3  3.811803  2.600009                               1     1  4.587122   \n",
       "4  1.605530  1.600435                               0     1  2.945090   \n",
       "\n",
       "        NCP      CAEC  SMOKE      CH2O  SCC  ...       TUE      CALC  \\\n",
       "0  3.666667  3.666667      0  5.000000    0  ...  5.000000  3.666667   \n",
       "1  3.666667  2.333333      0  5.000000    0  ...  3.000000  1.000000   \n",
       "2  3.666667  2.333333      0  3.000000    0  ...  1.000000  2.333333   \n",
       "3  4.718136  2.333333      0  3.858118    0  ...  1.786716  2.333333   \n",
       "4  2.786152  2.333333      0  2.422148    1  ...  3.382106  2.333333   \n",
       "\n",
       "   Gender_Male  MTRANS_Bike  MTRANS_Motorbike  MTRANS_Public_Transportation  \\\n",
       "0         True        False             False                          True   \n",
       "1         True        False             False                          True   \n",
       "2         True        False             False                          True   \n",
       "3         True        False             False                          True   \n",
       "4        False        False             False                          True   \n",
       "\n",
       "   MTRANS_Walking  Age_Category_Young Adult  Age_Category_Adult  \\\n",
       "0           False                      True               False   \n",
       "1           False                      True               False   \n",
       "2           False                      True               False   \n",
       "3           False                      True               False   \n",
       "4           False                     False               False   \n",
       "\n",
       "   Age_Category_Senior  \n",
       "0                False  \n",
       "1                False  \n",
       "2                False  \n",
       "3                False  \n",
       "4                False  \n",
       "\n",
       "[5 rows x 21 columns]"
      ]
     },
     "execution_count": 3,
     "metadata": {},
     "output_type": "execute_result"
    }
   ],
   "source": [
    "# Check X_train and y_train datasets\n",
    "X_train.head()"
   ]
  },
  {
   "cell_type": "code",
   "execution_count": 4,
   "metadata": {},
   "outputs": [
    {
     "data": {
      "text/html": [
       "<div>\n",
       "<style scoped>\n",
       "    .dataframe tbody tr th:only-of-type {\n",
       "        vertical-align: middle;\n",
       "    }\n",
       "\n",
       "    .dataframe tbody tr th {\n",
       "        vertical-align: top;\n",
       "    }\n",
       "\n",
       "    .dataframe thead th {\n",
       "        text-align: right;\n",
       "    }\n",
       "</style>\n",
       "<table border=\"1\" class=\"dataframe\">\n",
       "  <thead>\n",
       "    <tr style=\"text-align: right;\">\n",
       "      <th></th>\n",
       "      <th>NObeyesdad</th>\n",
       "    </tr>\n",
       "  </thead>\n",
       "  <tbody>\n",
       "    <tr>\n",
       "      <th>0</th>\n",
       "      <td>5</td>\n",
       "    </tr>\n",
       "    <tr>\n",
       "      <th>1</th>\n",
       "      <td>1</td>\n",
       "    </tr>\n",
       "    <tr>\n",
       "      <th>2</th>\n",
       "      <td>1</td>\n",
       "    </tr>\n",
       "    <tr>\n",
       "      <th>3</th>\n",
       "      <td>5</td>\n",
       "    </tr>\n",
       "    <tr>\n",
       "      <th>4</th>\n",
       "      <td>5</td>\n",
       "    </tr>\n",
       "  </tbody>\n",
       "</table>\n",
       "</div>"
      ],
      "text/plain": [
       "   NObeyesdad\n",
       "0           5\n",
       "1           1\n",
       "2           1\n",
       "3           5\n",
       "4           5"
      ]
     },
     "execution_count": 4,
     "metadata": {},
     "output_type": "execute_result"
    }
   ],
   "source": [
    "y_train.head()"
   ]
  },
  {
   "cell_type": "code",
   "execution_count": 5,
   "metadata": {},
   "outputs": [
    {
     "name": "stdout",
     "output_type": "stream",
     "text": [
      "(1688,)\n",
      "(423,)\n"
     ]
    }
   ],
   "source": [
    "# Flatten y_train and y_test to be (n_samples, )\n",
    "y_train_reshaped = np.ravel(y_train) \n",
    "y_test_reshaped = np.ravel(y_test)\n",
    "print(y_train_reshaped.shape)\n",
    "print(y_test_reshaped.shape)"
   ]
  },
  {
   "cell_type": "markdown",
   "metadata": {},
   "source": [
    "### Experiment with K Nearest Neighbors for a baseline model\n"
   ]
  },
  {
   "cell_type": "code",
   "execution_count": 6,
   "metadata": {},
   "outputs": [],
   "source": [
    "# Develop baseline model with KNN Classifier\n",
    "from sklearn.neighbors import KNeighborsClassifier\n",
    "from sklearn.metrics import accuracy_score, confusion_matrix, ConfusionMatrixDisplay\n",
    "from sklearn.model_selection import GridSearchCV\n",
    "from sklearn.metrics import classification_report\n",
    "\n",
    "# Hyperparameter tuning for KNN model\n",
    "knn_param = {'n_neighbors': range(1, 11, 1),\n",
    "            'metric': ['euclidean', 'manhattan'],\n",
    "            'weights': ['uniform', 'distance']\n",
    "}\n",
    "\n",
    "# Create a random forest classifier\n",
    "knn = KNeighborsClassifier()\n",
    "\n",
    "# Use GridSearch CV to find the best hyperparameters\n",
    "knn_search = GridSearchCV(knn,           \n",
    "            param_grid = knn_param,  \n",
    "            cv = 10,\n",
    "            scoring = 'accuracy')\n",
    "\n",
    "# Fit the Grid search CV object to the data\n",
    "knn_search.fit(X_train, y_train_reshaped)\n",
    "\n",
    "knn_results = knn_search.cv_results_"
   ]
  },
  {
   "cell_type": "code",
   "execution_count": 7,
   "metadata": {},
   "outputs": [
    {
     "name": "stdout",
     "output_type": "stream",
     "text": [
      "Best hyperparameters: {'metric': 'manhattan', 'n_neighbors': 4, 'weights': 'distance'}\n",
      "Best CV accuracy: 0.8767821921668076\n"
     ]
    }
   ],
   "source": [
    "# Hyperparameters for best KNN model\n",
    "best_knn = knn_search.best_estimator_\n",
    "print('Best hyperparameters:',  knn_search.best_params_)\n",
    "print('Best CV accuracy:', knn_search.best_score_)"
   ]
  },
  {
   "cell_type": "code",
   "execution_count": 8,
   "metadata": {},
   "outputs": [
    {
     "name": "stdout",
     "output_type": "stream",
     "text": [
      "       metric  n_neighbors   weights  Accuracy\n",
      "0   euclidean            1   uniform  0.825257\n",
      "1   euclidean            1  distance  0.825257\n",
      "2   euclidean            2   uniform  0.800983\n",
      "3   euclidean            2  distance  0.825257\n",
      "4   euclidean            3   uniform  0.809862\n",
      "5   euclidean            3  distance  0.825257\n",
      "6   euclidean            4   uniform  0.803364\n",
      "7   euclidean            4  distance  0.823507\n",
      "8   euclidean            5   uniform  0.803934\n",
      "9   euclidean            5  distance  0.821721\n",
      "10  euclidean            6   uniform  0.796841\n",
      "11  euclidean            6  distance  0.821735\n",
      "12  euclidean            7   uniform  0.785577\n",
      "13  euclidean            7  distance  0.808679\n",
      "14  euclidean            8   uniform  0.769565\n",
      "15  euclidean            8  distance  0.802751\n",
      "16  euclidean            9   uniform  0.775493\n",
      "17  euclidean            9  distance  0.800972\n",
      "18  euclidean           10   uniform  0.766019\n",
      "19  euclidean           10  distance  0.792100\n",
      "20  manhattan            1   uniform  0.864944\n",
      "21  manhattan            1  distance  0.864944\n",
      "22  manhattan            2   uniform  0.846577\n",
      "23  manhattan            2  distance  0.864944\n",
      "24  manhattan            3   uniform  0.860197\n",
      "25  manhattan            3  distance  0.870277\n",
      "26  manhattan            4   uniform  0.854871\n",
      "27  manhattan            4  distance  0.876782\n",
      "28  manhattan            5   uniform  0.858425\n",
      "29  manhattan            5  distance  0.872052\n",
      "30  manhattan            6   uniform  0.853092\n",
      "31  manhattan            6  distance  0.873834\n",
      "32  manhattan            7   uniform  0.851905\n",
      "33  manhattan            7  distance  0.867910\n",
      "34  manhattan            8   uniform  0.851328\n",
      "35  manhattan            8  distance  0.866145\n",
      "36  manhattan            9   uniform  0.843614\n",
      "37  manhattan            9  distance  0.862585\n",
      "38  manhattan           10   uniform  0.837095\n",
      "39  manhattan           10  distance  0.864356\n"
     ]
    }
   ],
   "source": [
    "knn_results = knn_search.cv_results_\n",
    "knn_search_results = pd.concat([pd.DataFrame(knn_results[\"params\"]),\n",
    "                               pd.DataFrame(knn_results[\"mean_test_score\"], columns=[\"Accuracy\"])],axis=1)\n",
    "print(knn_search_results)"
   ]
  },
  {
   "cell_type": "code",
   "execution_count": 9,
   "metadata": {},
   "outputs": [
    {
     "name": "stdout",
     "output_type": "stream",
     "text": [
      "Test Accuracy: 0.8794326241134752\n"
     ]
    }
   ],
   "source": [
    "# Generate predictions with the best model\n",
    "y_test_pred_knn = best_knn.predict(X_test)\n",
    "\n",
    "test_accuracy_knn = accuracy_score(y_test, y_test_pred_knn)\n",
    "print(\"Test Accuracy:\", test_accuracy_knn)"
   ]
  },
  {
   "cell_type": "code",
   "execution_count": 10,
   "metadata": {},
   "outputs": [
    {
     "name": "stdout",
     "output_type": "stream",
     "text": [
      "              precision    recall  f1-score   support\n",
      "\n",
      "           0       0.94      0.94      0.94        54\n",
      "           1       0.76      0.67      0.72        58\n",
      "           2       0.89      0.93      0.91        70\n",
      "           3       0.97      0.98      0.98        60\n",
      "           4       0.98      1.00      0.99        65\n",
      "           5       0.79      0.72      0.76        58\n",
      "           6       0.78      0.88      0.83        58\n",
      "\n",
      "    accuracy                           0.88       423\n",
      "   macro avg       0.88      0.88      0.87       423\n",
      "weighted avg       0.88      0.88      0.88       423\n",
      "\n"
     ]
    }
   ],
   "source": [
    "\n",
    "knn_report = classification_report(y_test, y_test_pred_knn)\n",
    "print(knn_report)"
   ]
  },
  {
   "cell_type": "code",
   "execution_count": 11,
   "metadata": {},
   "outputs": [
    {
     "data": {
      "image/png": "[encoded data removed]",
      "text/plain": [
       "<Figure size 640x480 with 2 Axes>"
      ]
     },
     "metadata": {},
     "output_type": "display_data"
    }
   ],
   "source": [
    "# Create the confusion matrix\n",
    "cm_knn = confusion_matrix(y_test, y_test_pred_knn)\n",
    "\n",
    "ConfusionMatrixDisplay(confusion_matrix=cm_knn).plot();"
   ]
  },
  {
   "cell_type": "markdown",
   "metadata": {},
   "source": [
    "**Summary for KNN model**\n",
    "|Result|Value|\n",
    "|---|---|\n",
    "|Best hyperparameters| {'metric': 'manhattan', 'n_neighbors': 4, 'weights': 'distance'}|\n",
    "|Best CV accuracy| 0.8767821921668076|\n",
    "|Test Accuracy| 0.8794326241134752|"
   ]
  },
  {
   "cell_type": "markdown",
   "metadata": {},
   "source": [
    "### Experiment with Random Forest Classifier for more advanced model"
   ]
  },
  {
   "cell_type": "code",
   "execution_count": 12,
   "metadata": {},
   "outputs": [
    {
     "data": {
      "text/html": [
       "<style>#sk-container-id-1 {color: black;background-color: white;}#sk-container-id-1 pre{padding: 0;}#sk-container-id-1 div.sk-toggleable {background-color: white;}#sk-container-id-1 label.sk-toggleable__label {cursor: pointer;display: block;width: 100%;margin-bottom: 0;padding: 0.3em;box-sizing: border-box;text-align: center;}#sk-container-id-1 label.sk-toggleable__label-arrow:before {content: \"▸\";float: left;margin-right: 0.25em;color: #696969;}#sk-container-id-1 label.sk-toggleable__label-arrow:hover:before {color: black;}#sk-container-id-1 div.sk-estimator:hover label.sk-toggleable__label-arrow:before {color: black;}#sk-container-id-1 div.sk-toggleable__content {max-height: 0;max-width: 0;overflow: hidden;text-align: left;background-color: #f0f8ff;}#sk-container-id-1 div.sk-toggleable__content pre {margin: 0.2em;color: black;border-radius: 0.25em;background-color: #f0f8ff;}#sk-container-id-1 input.sk-toggleable__control:checked~div.sk-toggleable__content {max-height: 200px;max-width: 100%;overflow: auto;}#sk-container-id-1 input.sk-toggleable__control:checked~label.sk-toggleable__label-arrow:before {content: \"▾\";}#sk-container-id-1 div.sk-estimator input.sk-toggleable__control:checked~label.sk-toggleable__label {background-color: #d4ebff;}#sk-container-id-1 div.sk-label input.sk-toggleable__control:checked~label.sk-toggleable__label {background-color: #d4ebff;}#sk-container-id-1 input.sk-hidden--visually {border: 0;clip: rect(1px 1px 1px 1px);clip: rect(1px, 1px, 1px, 1px);height: 1px;margin: -1px;overflow: hidden;padding: 0;position: absolute;width: 1px;}#sk-container-id-1 div.sk-estimator {font-family: monospace;background-color: #f0f8ff;border: 1px dotted black;border-radius: 0.25em;box-sizing: border-box;margin-bottom: 0.5em;}#sk-container-id-1 div.sk-estimator:hover {background-color: #d4ebff;}#sk-container-id-1 div.sk-parallel-item::after {content: \"\";width: 100%;border-bottom: 1px solid gray;flex-grow: 1;}#sk-container-id-1 div.sk-label:hover label.sk-toggleable__label {background-color: #d4ebff;}#sk-container-id-1 div.sk-serial::before {content: \"\";position: absolute;border-left: 1px solid gray;box-sizing: border-box;top: 0;bottom: 0;left: 50%;z-index: 0;}#sk-container-id-1 div.sk-serial {display: flex;flex-direction: column;align-items: center;background-color: white;padding-right: 0.2em;padding-left: 0.2em;position: relative;}#sk-container-id-1 div.sk-item {position: relative;z-index: 1;}#sk-container-id-1 div.sk-parallel {display: flex;align-items: stretch;justify-content: center;background-color: white;position: relative;}#sk-container-id-1 div.sk-item::before, #sk-container-id-1 div.sk-parallel-item::before {content: \"\";position: absolute;border-left: 1px solid gray;box-sizing: border-box;top: 0;bottom: 0;left: 50%;z-index: -1;}#sk-container-id-1 div.sk-parallel-item {display: flex;flex-direction: column;z-index: 1;position: relative;background-color: white;}#sk-container-id-1 div.sk-parallel-item:first-child::after {align-self: flex-end;width: 50%;}#sk-container-id-1 div.sk-parallel-item:last-child::after {align-self: flex-start;width: 50%;}#sk-container-id-1 div.sk-parallel-item:only-child::after {width: 0;}#sk-container-id-1 div.sk-dashed-wrapped {border: 1px dashed gray;margin: 0 0.4em 0.5em 0.4em;box-sizing: border-box;padding-bottom: 0.4em;background-color: white;}#sk-container-id-1 div.sk-label label {font-family: monospace;font-weight: bold;display: inline-block;line-height: 1.2em;}#sk-container-id-1 div.sk-label-container {text-align: center;}#sk-container-id-1 div.sk-container {/* jupyter's `normalize.less` sets `[hidden] { display: none; }` but bootstrap.min.css set `[hidden] { display: none !important; }` so we also need the `!important` here to be able to override the default hidden behavior on the sphinx rendered scikit-learn.org. See: https://github.com/scikit-learn/scikit-learn/issues/21755 */display: inline-block !important;position: relative;}#sk-container-id-1 div.sk-text-repr-fallback {display: none;}</style><div id=\"sk-container-id-1\" class=\"sk-top-container\"><div class=\"sk-text-repr-fallback\"><pre>GridSearchCV(cv=10, estimator=RandomForestClassifier(random_state=42),\n",
       "             param_grid={&#x27;max_depth&#x27;: range(1, 26, 5),\n",
       "                         &#x27;n_estimators&#x27;: range(50, 501, 50)},\n",
       "             scoring=&#x27;accuracy&#x27;)</pre><b>In a Jupyter environment, please rerun this cell to show the HTML representation or trust the notebook. <br />On GitHub, the HTML representation is unable to render, please try loading this page with nbviewer.org.</b></div><div class=\"sk-container\" hidden><div class=\"sk-item sk-dashed-wrapped\"><div class=\"sk-label-container\"><div class=\"sk-label sk-toggleable\"><input class=\"sk-toggleable__control sk-hidden--visually\" id=\"sk-estimator-id-1\" type=\"checkbox\" ><label for=\"sk-estimator-id-1\" class=\"sk-toggleable__label sk-toggleable__label-arrow\">GridSearchCV</label><div class=\"sk-toggleable__content\"><pre>GridSearchCV(cv=10, estimator=RandomForestClassifier(random_state=42),\n",
       "             param_grid={&#x27;max_depth&#x27;: range(1, 26, 5),\n",
       "                         &#x27;n_estimators&#x27;: range(50, 501, 50)},\n",
       "             scoring=&#x27;accuracy&#x27;)</pre></div></div></div><div class=\"sk-parallel\"><div class=\"sk-parallel-item\"><div class=\"sk-item\"><div class=\"sk-label-container\"><div class=\"sk-label sk-toggleable\"><input class=\"sk-toggleable__control sk-hidden--visually\" id=\"sk-estimator-id-2\" type=\"checkbox\" ><label for=\"sk-estimator-id-2\" class=\"sk-toggleable__label sk-toggleable__label-arrow\">estimator: RandomForestClassifier</label><div class=\"sk-toggleable__content\"><pre>RandomForestClassifier(random_state=42)</pre></div></div></div><div class=\"sk-serial\"><div class=\"sk-item\"><div class=\"sk-estimator sk-toggleable\"><input class=\"sk-toggleable__control sk-hidden--visually\" id=\"sk-estimator-id-3\" type=\"checkbox\" ><label for=\"sk-estimator-id-3\" class=\"sk-toggleable__label sk-toggleable__label-arrow\">RandomForestClassifier</label><div class=\"sk-toggleable__content\"><pre>RandomForestClassifier(random_state=42)</pre></div></div></div></div></div></div></div></div></div></div>"
      ],
      "text/plain": [
       "GridSearchCV(cv=10, estimator=RandomForestClassifier(random_state=42),\n",
       "             param_grid={'max_depth': range(1, 26, 5),\n",
       "                         'n_estimators': range(50, 501, 50)},\n",
       "             scoring='accuracy')"
      ]
     },
     "execution_count": 12,
     "metadata": {},
     "output_type": "execute_result"
    }
   ],
   "source": [
    "# Develop baseline model with Random Forest Classifier\n",
    "from sklearn.ensemble import RandomForestClassifier\n",
    "\n",
    "# Hyperparameter tuning for n_estimators and max_depth\n",
    "param_dist = {'n_estimators': range(50, 501, 50),\n",
    "              'max_depth': range(1, 26, 5)}\n",
    "\n",
    "# Create a random forest classifier\n",
    "rf = RandomForestClassifier(random_state = 42)\n",
    "\n",
    "# Use GridSearch CV to find the best hyperparameters\n",
    "GridCV_search = GridSearchCV(rf,           \n",
    "                            param_grid = param_dist,  \n",
    "                            cv = 10,\n",
    "                            scoring = 'accuracy')\n",
    "\n",
    "# Fit the random search object to the data\n",
    "GridCV_search.fit(X_train, y_train_reshaped)"
   ]
  },
  {
   "cell_type": "code",
   "execution_count": 13,
   "metadata": {},
   "outputs": [
    {
     "name": "stdout",
     "output_type": "stream",
     "text": [
      "    max_depth  n_estimators  Accuracy\n",
      "0           1            50  0.469808\n",
      "1           1           100  0.482234\n",
      "2           1           150  0.482812\n",
      "3           1           200  0.469798\n",
      "4           1           250  0.481044\n",
      "5           1           300  0.482245\n",
      "6           1           350  0.478684\n",
      "7           1           400  0.476321\n",
      "8           1           450  0.486383\n",
      "9           1           500  0.500011\n",
      "10          6            50  0.854286\n",
      "11          6           100  0.875021\n",
      "12          6           150  0.882129\n",
      "13          6           200  0.882125\n",
      "14          6           250  0.888053\n",
      "15          6           300  0.890420\n",
      "16          6           350  0.889240\n",
      "17          6           400  0.890423\n",
      "18          6           450  0.889236\n",
      "19          6           500  0.889240\n",
      "20         11            50  0.939582\n",
      "21         11           100  0.943139\n",
      "22         11           150  0.946105\n",
      "23         11           200  0.944319\n",
      "24         11           250  0.944914\n",
      "25         11           300  0.946689\n",
      "26         11           350  0.947876\n",
      "27         11           400  0.946693\n",
      "28         11           450  0.946693\n",
      "29         11           500  0.948468\n",
      "30         16            50  0.939589\n",
      "31         16           100  0.947880\n",
      "32         16           150  0.949063\n",
      "33         16           200  0.950247\n",
      "34         16           250  0.950838\n",
      "35         16           300  0.950842\n",
      "36         16           350  0.951430\n",
      "37         16           400  0.951430\n",
      "38         16           450  0.950838\n",
      "39         16           500  0.950243\n",
      "40         21            50  0.945513\n",
      "41         21           100  0.949060\n",
      "42         21           150  0.948468\n",
      "43         21           200  0.947876\n",
      "44         21           250  0.950243\n",
      "45         21           300  0.950838\n",
      "46         21           350  0.950835\n",
      "47         21           400  0.950838\n",
      "48         21           450  0.952613\n",
      "49         21           500  0.952022\n"
     ]
    }
   ],
   "source": [
    "# Summary of GridCV search during hyperparameter tuning\n",
    "GridCV_results = GridCV_search.cv_results_\n",
    "CV_search_results = pd.concat([pd.DataFrame(GridCV_results[\"params\"]),\n",
    "                               pd.DataFrame(GridCV_results[\"mean_test_score\"], columns=[\"Accuracy\"])],axis=1)\n",
    "print(CV_search_results)"
   ]
  },
  {
   "cell_type": "code",
   "execution_count": 14,
   "metadata": {},
   "outputs": [
    {
     "name": "stdout",
     "output_type": "stream",
     "text": [
      "Best hyperparameters: {'max_depth': 21, 'n_estimators': 450}\n",
      "Best CV accuracy: 0.9526134122287967\n"
     ]
    }
   ],
   "source": [
    "# Best model with hyperparameters max_depth = 21 and n_estimators = 450\n",
    "best_rf = GridCV_search.best_estimator_\n",
    "\n",
    "# Print the best hyperparameters\n",
    "print('Best hyperparameters:',  GridCV_search.best_params_)\n",
    "print('Best CV accuracy:', GridCV_search.best_score_)"
   ]
  },
  {
   "cell_type": "code",
   "execution_count": 15,
   "metadata": {},
   "outputs": [
    {
     "name": "stdout",
     "output_type": "stream",
     "text": [
      "              precision    recall  f1-score   support\n",
      "\n",
      "           0       1.00      0.93      0.96        54\n",
      "           1       0.80      0.97      0.88        58\n",
      "           2       0.92      0.97      0.94        70\n",
      "           3       1.00      0.98      0.99        60\n",
      "           4       1.00      0.98      0.99        65\n",
      "           5       0.94      0.86      0.90        58\n",
      "           6       0.96      0.88      0.92        58\n",
      "\n",
      "    accuracy                           0.94       423\n",
      "   macro avg       0.95      0.94      0.94       423\n",
      "weighted avg       0.95      0.94      0.94       423\n",
      "\n"
     ]
    }
   ],
   "source": [
    "# Generate predictions with the best model\n",
    "y_pred = best_rf.predict(X_test)\n",
    "\n",
    "from sklearn.metrics import classification_report\n",
    "report = classification_report(y_test, y_pred)\n",
    "print(report)"
   ]
  },
  {
   "cell_type": "code",
   "execution_count": 16,
   "metadata": {},
   "outputs": [
    {
     "name": "stdout",
     "output_type": "stream",
     "text": [
      "Test Accuracy: 0.941\n"
     ]
    }
   ],
   "source": [
    "# Calculate test accuracy\n",
    "test_accuracy = accuracy_score(y_test.values.ravel(), y_pred)\n",
    "print(f\"Test Accuracy: {test_accuracy:.3f}\")"
   ]
  },
  {
   "cell_type": "code",
   "execution_count": 10,
   "metadata": {},
   "outputs": [
    {
     "name": "stdout",
     "output_type": "stream",
     "text": [
      "Test set RMSE: 0.86\n"
     ]
    }
   ],
   "source": [
    "from sklearn.metrics import mean_squared_error as MSE\n",
    "rmse_test = MSE(y_test, y_pred)**(1/2)\n",
    "print('Test set RMSE: {:.2f}'.format(rmse_test))"
   ]
  },
  {
   "cell_type": "code",
   "execution_count": 11,
   "metadata": {},
   "outputs": [
    {
     "data": {
      "image/png": "[encoded data removed]",
      "text/plain": [
       "<Figure size 640x480 with 2 Axes>"
      ]
     },
     "metadata": {},
     "output_type": "display_data"
    }
   ],
   "source": [
    "# Create the confusion matrix\n",
    "cm = confusion_matrix(y_test, y_pred)\n",
    "\n",
    "ConfusionMatrixDisplay(confusion_matrix=cm).plot();"
   ]
  },
  {
   "cell_type": "code",
   "execution_count": 12,
   "metadata": {},
   "outputs": [
    {
     "data": {
      "image/png": "[encoded data removed]",
      "text/plain": [
       "<Figure size 640x480 with 1 Axes>"
      ]
     },
     "metadata": {},
     "output_type": "display_data"
    }
   ],
   "source": [
    "# Create a series containing feature importances from the model and feature names from the training data\n",
    "import matplotlib.pyplot as plt\n",
    "feature_importance = pd.Series(best_rf.feature_importances_, index=X_train.columns).sort_values(ascending=False)\n",
    "\n",
    "feature_importance.plot(kind='barh', color='blue')\n",
    "plt.xlabel('Importance')\n",
    "plt.ylabel('Feature')\n",
    "plt.title('Features Importance')\n",
    "plt.show()"
   ]
  },
  {
   "cell_type": "markdown",
   "metadata": {},
   "source": [
    "**Summary for Random Forest Model**\n",
    "|Result|Value|\n",
    "|---|---|\n",
    "|Best hyperparameters| {'max_depth': 21, 'n_estimators': 450}|\n",
    "|Best CV accuracy|0.9526134122287967|\n",
    "|Test Accuracy| 0.941|"
   ]
  }
 ],
 "metadata": {
  "kernelspec": {
   "display_name": "dsi_participant",
   "language": "python",
   "name": "python3"
  },
  "language_info": {
   "codemirror_mode": {
    "name": "ipython",
    "version": 3
   },
   "file_extension": ".py",
   "mimetype": "text/x-python",
   "name": "python",
   "nbconvert_exporter": "python",
   "pygments_lexer": "ipython3",
   "version": "3.9.21"
  }
 },
 "nbformat": 4,
 "nbformat_minor": 2
}
